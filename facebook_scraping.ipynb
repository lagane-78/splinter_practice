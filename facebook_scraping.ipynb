{
 "cells": [
  {
   "cell_type": "code",
   "execution_count": 16,
   "metadata": {},
   "outputs": [],
   "source": [
    "from selenium import webdriver \n",
    "from time import sleep \n",
    "from getpass import getpass \n",
    "\n",
    "from splinter import Browser\n",
    "from bs4 import BeautifulSoup\n",
    "import time\n",
    "\n",
    "# usr=input('Enter Email Id:')  \n",
    "  \n",
    "# driver = webdriver.Chrome() \n",
    "# driver.get('https://www.facebook.com/') \n",
    "# print (\"Opened facebook\") \n",
    "# sleep(1) \n",
    "  \n",
    "# username_box = driver.find_element_by_id('email') \n",
    "# username_box.send_keys(usr) \n",
    "# print (\"Email Id entered\") \n",
    "# sleep(1) \n",
    "\n",
    "# pwd = getpass('Enter Password:') \n",
    "# password_box = driver.find_element_by_id('pass') \n",
    "# password_box.send_keys(pwd) \n",
    "# print (\"Password entered\") \n",
    "  \n",
    "# login_box = driver.find_element_by_id('loginbutton') \n",
    "# login_box.click() \n",
    "  \n",
    "# print (\"Done\") \n",
    "# input('Press anything to quit') \n",
    "# driver.quit() \n",
    "# print(\"Finished\") \n"
   ]
  },
  {
   "cell_type": "code",
   "execution_count": 17,
   "metadata": {},
   "outputs": [],
   "source": [
    "executable_path = {'executable_path': 'chromedriver.exe'}\n",
    "browser = Browser('chrome', **executable_path, headless=False)\n"
   ]
  },
  {
   "cell_type": "code",
   "execution_count": 20,
   "metadata": {},
   "outputs": [
    {
     "name": "stdout",
     "output_type": "stream",
     "text": [
      "Facebook web application NOT FOUND\n"
     ]
    }
   ],
   "source": [
    "\n",
    "\n",
    "url = 'https://www.facebook.com/'\n",
    "#  #navigates to facebook website and load that in the Firefox browser\n",
    "# print(\"testing\")\n",
    "browser.visit(url)\n",
    "time.sleep(3)\n",
    "#checks if Facebook web page is loaded else prints an error message\n",
    "if browser.is_text_present('https://www.facebook.com/'):\n",
    "#  # fills the user’s email ID and password in the email and password field of the facebook login section\n",
    "    user_email=input('Enter Email Id:') \n",
    "    user_pass = getpass('Enter Password:') \n",
    "# #Inbuilt function browser.fill uses the tag name for Email and Password input box i.e. email and pass respectively to identify it\n",
    "    browser.fill('email', user_email)\n",
    "\n",
    "    browser.fill('pass', user_pass)\n",
    " #selects the login button using its id value present on the Facebook page to click and log in with the given details\n",
    "    button = browser.find_by_id('u_0_d')\n",
    "    button.click()\n",
    "else:\n",
    "    print('Facebook web application NOT FOUND')\n"
   ]
  },
  {
   "cell_type": "code",
   "execution_count": null,
   "metadata": {},
   "outputs": [],
   "source": [
    "# for x in range(1, 6):\n",
    "\n",
    "#     html = browser.html\n",
    "#     soup = BeautifulSoup(html, 'html.parser')\n",
    "\n",
    "#     quotes = soup.find_all('span', class_='imgWrap')\n",
    "#     print(quotes)"
   ]
  }
 ],
 "metadata": {
  "kernelspec": {
   "display_name": "Python 3",
   "language": "python",
   "name": "python3"
  },
  "language_info": {
   "codemirror_mode": {
    "name": "ipython",
    "version": 3
   },
   "file_extension": ".py",
   "mimetype": "text/x-python",
   "name": "python",
   "nbconvert_exporter": "python",
   "pygments_lexer": "ipython3",
   "version": "3.7.4"
  }
 },
 "nbformat": 4,
 "nbformat_minor": 2
}
